{
 "cells": [
  {
   "cell_type": "code",
   "execution_count": 1,
   "metadata": {
    "collapsed": false
   },
   "outputs": [],
   "source": [
    "import matplotlib\n",
    "from matplotlib import pyplot\n",
    "from collections import Counter\n",
    "%matplotlib inline\n",
    "import json\n",
    "import pandas as pd"
   ]
  },
  {
   "cell_type": "code",
   "execution_count": 2,
   "metadata": {
    "collapsed": false
   },
   "outputs": [],
   "source": [
    "reviews = []\n",
    "with open(\"dataset/yelp_academic_dataset_review.json\") as data_file:\n",
    "    for line in data_file:\n",
    "        reviews.append(json.loads(line))\n",
    "\n",
    "reviews_df = pd.DataFrame(reviews) #dtype={'stars': float})\n",
    "del reviews"
   ]
  },
  {
   "cell_type": "code",
   "execution_count": 3,
   "metadata": {
    "collapsed": true
   },
   "outputs": [],
   "source": [
    "businesses = []\n",
    "with open(\"dataset/yelp_academic_dataset_business.json\") as data_file:\n",
    "    for line in data_file:\n",
    "        businesses.append(json.loads(line))\n",
    "        \n",
    "businesses_df = pd.DataFrame(businesses)\n",
    "del businesses"
   ]
  },
  {
   "cell_type": "code",
   "execution_count": 4,
   "metadata": {
    "collapsed": false
   },
   "outputs": [],
   "source": [
    "total_stars = float(reviews_df['stars'].count())\n",
    "counts = Counter(reviews_df['stars'])\n",
    "counts = {k:v/total_stars for k,v in counts.items()}"
   ]
  },
  {
   "cell_type": "code",
   "execution_count": 5,
   "metadata": {
    "collapsed": false
   },
   "outputs": [
    {
     "data": {
      "image/png": "[encoded data removed]",
      "text/plain": [
       "<matplotlib.figure.Figure at 0x23e779310>"
      ]
     },
     "metadata": {},
     "output_type": "display_data"
    }
   ],
   "source": [
    "pyplot.bar(counts.keys(), [x*100 for x in counts.values()])\n",
    "pyplot.xlabel(\"Star Rating\")\n",
    "pyplot.axis([0,7,0,60])\n",
    "pyplot.ylabel(\"Percent of all Reviews \")\n",
    "pyplot.show()"
   ]
  },
  {
   "cell_type": "code",
   "execution_count": 6,
   "metadata": {
    "collapsed": true
   },
   "outputs": [],
   "source": [
    "states = set(businesses_df['state'])\n",
    "# A single review of a business in Tamaulipas, Mexico, sneaked into our dataset.\n",
    "states.remove(\"TAM\")"
   ]
  },
  {
   "cell_type": "code",
   "execution_count": 7,
   "metadata": {
    "collapsed": false
   },
   "outputs": [],
   "source": [
    "karlsruhe_states = [\"BW\", \"NW\"]\n",
    "edinburgh_states = [\"EDH\", \"SCB\", \"ELN\", \"FIF\", \"HAM\", \"KHL\", \"MLN\", \"NTH\", \"SCB\", \"XGL\"]\n",
    "montreal_states = [\"QC\"]\n",
    "waterloo_states = [\"ON\"]\n",
    "us_states = [state for state in states if not ((state in karlsruhe_states) or \n",
    "                                               (state in edinburgh_states) or \n",
    "                                               (state in montreal_states) or \n",
    "                                               (state in waterloo_states))]\n",
    "\n",
    "mapping = dict([(x,\"Karlsruhe\") for x in karlsruhe_states] + \n",
    "               [(x,\"Edinburgh\") for x in edinburgh_states] + \n",
    "               [(x,\"Montreal\") for x in montreal_states] + \n",
    "               [(x,\"Waterloo\") for x in waterloo_states] + \n",
    "               [(x,\"USA\") for x in us_states])"
   ]
  },
  {
   "cell_type": "code",
   "execution_count": 8,
   "metadata": {
    "collapsed": false
   },
   "outputs": [],
   "source": [
    "businesses_df['location'] = businesses_df['state'].map(mapping)"
   ]
  },
  {
   "cell_type": "code",
   "execution_count": 9,
   "metadata": {
    "collapsed": true
   },
   "outputs": [],
   "source": [
    "reviews_df['location'] = reviews_df['business_id'].map(dict(zip(reviews_df.business_id, businesses_df.location)))"
   ]
  },
  {
   "cell_type": "code",
   "execution_count": null,
   "metadata": {
    "collapsed": true
   },
   "outputs": [],
   "source": [
    "reviews_df['location']"
   ]
  },
  {
   "cell_type": "code",
   "execution_count": null,
   "metadata": {
    "collapsed": false
   },
   "outputs": [],
   "source": [
    "def review_to_loc(biz_id):\n",
    "    return businesses_df[businesses_df['business_id']==biz_id]['location'].item()\n",
    "\n",
    "reviews_df['location'] = reviews_df['business_id'].map(review_to_loc)"
   ]
  },
  {
   "cell_type": "code",
   "execution_count": 16,
   "metadata": {
    "collapsed": false
   },
   "outputs": [
    {
     "name": "stdout",
     "output_type": "stream",
     "text": [
      "nan 4\n"
     ]
    }
   ],
   "source": [
    "reviews = {u\"Karlsruhe\":Counter(), \n",
    "           u\"Edinburgh\":Counter(), \n",
    "           u\"Montreal\":Counter(), \n",
    "           u\"Waterloo\":Counter(), \n",
    "           u\"USA\":Counter()}\n",
    "\n",
    "for index, review in reviews_df.iterrows():\n",
    "    try:\n",
    "        bloc = review['location']\n",
    "        reviews[bloc][review['stars']] +=1\n",
    "    except:\n",
    "        print review[\"location\"], review['stars']\n",
    "        break"
   ]
  },
  {
   "cell_type": "code",
   "execution_count": 72,
   "metadata": {
    "collapsed": false
   },
   "outputs": [
    {
     "data": {
      "text/plain": [
       "{u'Edinburgh': Counter(),\n",
       " u'Karlsruhe': Counter(),\n",
       " u'Montreal': Counter(),\n",
       " u'USA': Counter({1: 331786, 2: 224334, 3: 321700, 4: 674636, 5: 1132610}),\n",
       " u'Waterloo': Counter()}"
      ]
     },
     "execution_count": 72,
     "metadata": {},
     "output_type": "execute_result"
    }
   ],
   "source": [
    "reviews"
   ]
  },
  {
   "cell_type": "code",
   "execution_count": null,
   "metadata": {
    "collapsed": true
   },
   "outputs": [],
   "source": []
  }
 ],
 "metadata": {
  "kernelspec": {
   "display_name": "Python 2",
   "language": "python",
   "name": "python2"
  },
  "language_info": {
   "codemirror_mode": {
    "name": "ipython",
    "version": 2
   },
   "file_extension": ".py",
   "mimetype": "text/x-python",
   "name": "python",
   "nbconvert_exporter": "python",
   "pygments_lexer": "ipython2",
   "version": "2.7.12"
  }
 },
 "nbformat": 4,
 "nbformat_minor": 1
}
