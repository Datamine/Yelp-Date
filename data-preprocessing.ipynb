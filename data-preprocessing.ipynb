{
 "cells": [
  {
   "cell_type": "code",
   "execution_count": 10,
   "metadata": {
    "collapsed": false
   },
   "outputs": [],
   "source": [
    "import json\n",
    "import re\n",
    "import pandas as pd\n",
    "import unicodecsv as csv"
   ]
  },
  {
   "cell_type": "markdown",
   "metadata": {},
   "source": [
    "First: load the business dataset (114.5 MB), retrieve the only two columns that are actually relevant, and save. (By saving in a spreadsheet instead of a collection of JSON objects, we get to eliminate all the space otherwise wasted by saving JSON keys.) New file size: 1.08 MB."
   ]
  },
  {
   "cell_type": "code",
   "execution_count": 11,
   "metadata": {
    "collapsed": true
   },
   "outputs": [],
   "source": [
    "with open(\"yelp_dataset_challenge_round9/yelp_academic_dataset_business.json\") as data_file:\n",
    "        businesses_df = pd.DataFrame([json.loads(line) for line in data_file.readlines()])"
   ]
  },
  {
   "cell_type": "code",
   "execution_count": 12,
   "metadata": {
    "collapsed": false
   },
   "outputs": [],
   "source": [
    "US_States = [\"AL\", \"AK\", \"AZ\", \"AR\", \"CA\", \"CO\", \"CT\", \"DC\", \"DE\", \"FL\", \"GA\", \n",
    "             \"HI\", \"ID\", \"IL\", \"IN\", \"IA\", \"KS\", \"KY\", \"LA\", \"ME\", \"MD\", \n",
    "             \"MA\", \"MI\", \"MN\", \"MS\", \"MO\", \"MT\", \"NE\", \"NV\", \"NH\", \"NJ\", \n",
    "             \"NM\", \"NY\", \"NC\", \"ND\", \"OH\", \"OK\", \"OR\", \"PA\", \"RI\", \"SC\", \n",
    "             \"SD\", \"TN\", \"TX\", \"UT\", \"VT\", \"VA\", \"WA\", \"WV\", \"WI\", \"WY\"]\n",
    "\n",
    "businesses_df = businesses_df[businesses_df['state'].isin(US_States)]"
   ]
  },
  {
   "cell_type": "code",
   "execution_count": 13,
   "metadata": {
    "collapsed": false
   },
   "outputs": [],
   "source": [
    "businesses_df = businesses_df.loc[:, ['business_id', 'stars']]\n",
    "# create a set of us_business_ids, will need for fast lookups in the review-object section\n",
    "us_business_ids_set = set(businesses_df['business_id'])\n",
    "# drop the index column, we won't need it saved in the CSV\n",
    "businesses_df.drop(businesses_df.columns[0], axis=1, inplace=True)\n",
    "businesses_df.to_csv(\"businesses_shortened.csv\")"
   ]
  },
  {
   "cell_type": "markdown",
   "metadata": {},
   "source": [
    "Next: load the review dataset (3.46 GB), retrieve the subset of reviews that are for US businesses, discard irrelevant data in the JSON review objects, clean up the text, and save each object as a line in a csv. Again, by saving in a spreadsheet, we get to eliminate all the space otherwise wasted by saving JSON keys. New size: 1.59 GB."
   ]
  },
  {
   "cell_type": "code",
   "execution_count": 14,
   "metadata": {
    "collapsed": false
   },
   "outputs": [],
   "source": [
    "def format_text(text_string):\n",
    "    return re.sub('[^0-9 a-zA-Z]+', '', text_string).lower()\n",
    "\n",
    "with open(\"yelp_dataset_challenge_round9/yelp_academic_dataset_review.json\") as data_file_in:\n",
    "    with open(\"reviews_shortened.csv\", \"w\") as csv_file_out:\n",
    "        fieldnames = sorted(['user_id', 'business_id', 'stars', 'date', 'text'])\n",
    "        writer = csv.DictWriter(csv_file_out, fieldnames=fieldnames, extrasaction='ignore')\n",
    "        writer.writeheader()\n",
    "        \n",
    "        for line in data_file_in:\n",
    "            review = json.loads(line)\n",
    "            review['text'] = format_text(review['text'])\n",
    "            if review['business_id'] in us_business_ids_set and review['text'] != '':\n",
    "                writer.writerow(review)"
   ]
  },
  {
   "cell_type": "code",
   "execution_count": null,
   "metadata": {
    "collapsed": true
   },
   "outputs": [],
   "source": []
  }
 ],
 "metadata": {
  "kernelspec": {
   "display_name": "Python 2",
   "language": "python",
   "name": "python2"
  },
  "language_info": {
   "codemirror_mode": {
    "name": "ipython",
    "version": 2
   },
   "file_extension": ".py",
   "mimetype": "text/x-python",
   "name": "python",
   "nbconvert_exporter": "python",
   "pygments_lexer": "ipython2",
   "version": "2.7.6"
  }
 },
 "nbformat": 4,
 "nbformat_minor": 1
}
